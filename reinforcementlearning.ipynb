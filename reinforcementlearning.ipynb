{
  "nbformat": 4,
  "nbformat_minor": 0,
  "metadata": {
    "colab": {
      "name": "reinforcementlearning.ipynb",
      "provenance": [],
      "collapsed_sections": [],
      "machine_shape": "hm"
    },
    "kernelspec": {
      "name": "python3",
      "display_name": "Python 3"
    },
    "accelerator": "TPU"
  },
  "cells": [
    {
      "cell_type": "code",
      "metadata": {
        "id": "6uUAQsPXhNAw"
      },
      "source": [
        ""
      ],
      "execution_count": null,
      "outputs": []
    },
    {
      "cell_type": "code",
      "metadata": {
        "id": "pY4kILhECeLL"
      },
      "source": [
        ""
      ],
      "execution_count": null,
      "outputs": []
    },
    {
      "cell_type": "code",
      "metadata": {
        "id": "Ku34uf1ICeVr"
      },
      "source": [
        "import gym"
      ],
      "execution_count": null,
      "outputs": []
    },
    {
      "cell_type": "code",
      "metadata": {
        "id": "SaH72Lhnhjc9"
      },
      "source": [
        "env = gym.make(\"Taxi-v3\").env"
      ],
      "execution_count": null,
      "outputs": []
    },
    {
      "cell_type": "code",
      "metadata": {
        "id": "jD94XkMHhjmN",
        "colab": {
          "base_uri": "https://localhost:8080/"
        },
        "outputId": "bb628912-430d-4f37-8e43-b15c99db65cc"
      },
      "source": [
        "env.render()"
      ],
      "execution_count": null,
      "outputs": [
        {
          "output_type": "stream",
          "text": [
            "+---------+\n",
            "|R: | : :\u001b[35m\u001b[43mG\u001b[0m\u001b[0m|\n",
            "| : | : : |\n",
            "| : : : : |\n",
            "| | : | : |\n",
            "|Y| : |\u001b[34;1mB\u001b[0m: |\n",
            "+---------+\n",
            "\n"
          ],
          "name": "stdout"
        }
      ]
    },
    {
      "cell_type": "code",
      "metadata": {
        "id": "mF6WVnuthjp0",
        "colab": {
          "base_uri": "https://localhost:8080/"
        },
        "outputId": "ea942a96-1b90-44c5-80e6-22af5a38ae82"
      },
      "source": [
        "env.reset()"
      ],
      "execution_count": null,
      "outputs": [
        {
          "output_type": "execute_result",
          "data": {
            "text/plain": [
              "252"
            ]
          },
          "metadata": {
            "tags": []
          },
          "execution_count": 4
        }
      ]
    },
    {
      "cell_type": "code",
      "metadata": {
        "id": "8AnmkpcZhjtK",
        "colab": {
          "base_uri": "https://localhost:8080/"
        },
        "outputId": "d78e6b69-2fe6-4796-e109-d74d24d43795"
      },
      "source": [
        "env.render()"
      ],
      "execution_count": null,
      "outputs": [
        {
          "output_type": "stream",
          "text": [
            "+---------+\n",
            "|\u001b[35mR\u001b[0m: | : :G|\n",
            "| : | : : |\n",
            "| : :\u001b[43m \u001b[0m: : |\n",
            "| | : | : |\n",
            "|Y| : |\u001b[34;1mB\u001b[0m: |\n",
            "+---------+\n",
            "\n"
          ],
          "name": "stdout"
        }
      ]
    },
    {
      "cell_type": "code",
      "metadata": {
        "colab": {
          "base_uri": "https://localhost:8080/"
        },
        "id": "o7-uMUCqtaNM",
        "outputId": "e65dca7a-7674-4af5-9da6-2438f83b6434"
      },
      "source": [
        "print(\"Action Space {}\".format(env.action_space))\r\n",
        "print(\"State Space {}\".format(env.observation_space))\r\n",
        "state= env.encode(3, 1, 2, 0)\r\n",
        "print(\"State:\", state)\r\n",
        "env.s = state\r\n",
        "env.render()"
      ],
      "execution_count": null,
      "outputs": [
        {
          "output_type": "stream",
          "text": [
            "Action Space Discrete(6)\n",
            "State Space Discrete(500)\n",
            "State: 328\n",
            "+---------+\n",
            "|\u001b[35mR\u001b[0m: | : :G|\n",
            "| : | : : |\n",
            "| : : : : |\n",
            "| |\u001b[43m \u001b[0m: | : |\n",
            "|\u001b[34;1mY\u001b[0m| : |B: |\n",
            "+---------+\n",
            "\n"
          ],
          "name": "stdout"
        }
      ]
    },
    {
      "cell_type": "code",
      "metadata": {
        "colab": {
          "base_uri": "https://localhost:8080/"
        },
        "id": "BcCbwkx4taRX",
        "outputId": "d963b1ae-ff6d-43e7-a298-88d1d6d824ef"
      },
      "source": [
        "env.P[328]"
      ],
      "execution_count": null,
      "outputs": [
        {
          "output_type": "execute_result",
          "data": {
            "text/plain": [
              "{0: [(1.0, 428, -1, False)],\n",
              " 1: [(1.0, 228, -1, False)],\n",
              " 2: [(1.0, 348, -1, False)],\n",
              " 3: [(1.0, 328, -1, False)],\n",
              " 4: [(1.0, 328, -10, False)],\n",
              " 5: [(1.0, 328, -10, False)]}"
            ]
          },
          "metadata": {
            "tags": []
          },
          "execution_count": 7
        }
      ]
    },
    {
      "cell_type": "code",
      "metadata": {
        "colab": {
          "base_uri": "https://localhost:8080/"
        },
        "id": "1UNN7sjUtmOT",
        "outputId": "4482d4e1-aaba-4f2d-eaaf-2455e33789af"
      },
      "source": [
        "env.s = 328\r\n",
        "epochs = 0\r\n",
        "penalties, rewards = 0, 0\r\n",
        "frames = []\r\n",
        "done = False\r\n",
        "while not done:\r\n",
        "  action = env.action_space.sample()\r\n",
        "  state, reward, done , info = env.step(action)\r\n",
        "\r\n",
        "  if reward == -10:\r\n",
        "     penalties += 1\r\n",
        "\r\n",
        "  frames.append({\r\n",
        "      'frame': env.render(mode='ansi'),\r\n",
        "      'state': state,\r\n",
        "      'action': action,\r\n",
        "      'reward': reward\r\n",
        "       }\r\n",
        "  )\r\n",
        "\r\n",
        "  epochs += 1\r\n",
        "\r\n",
        "  print(\"Timesteps taken: {}\".format(epochs))\r\n",
        "  print(\"Penalties incureed: {}\".format(penalties))"
      ],
      "execution_count": null,
      "outputs": [
        {
          "output_type": "stream",
          "text": [
            "Timesteps taken: 1\n",
            "Penalties incureed: 1\n",
            "Timesteps taken: 2\n",
            "Penalties incureed: 1\n",
            "Timesteps taken: 3\n",
            "Penalties incureed: 1\n",
            "Timesteps taken: 4\n",
            "Penalties incureed: 1\n",
            "Timesteps taken: 5\n",
            "Penalties incureed: 1\n",
            "Timesteps taken: 6\n",
            "Penalties incureed: 2\n",
            "Timesteps taken: 7\n",
            "Penalties incureed: 2\n",
            "Timesteps taken: 8\n",
            "Penalties incureed: 2\n",
            "Timesteps taken: 9\n",
            "Penalties incureed: 2\n",
            "Timesteps taken: 10\n",
            "Penalties incureed: 2\n",
            "Timesteps taken: 11\n",
            "Penalties incureed: 3\n",
            "Timesteps taken: 12\n",
            "Penalties incureed: 3\n",
            "Timesteps taken: 13\n",
            "Penalties incureed: 4\n",
            "Timesteps taken: 14\n",
            "Penalties incureed: 5\n",
            "Timesteps taken: 15\n",
            "Penalties incureed: 5\n",
            "Timesteps taken: 16\n",
            "Penalties incureed: 5\n",
            "Timesteps taken: 17\n",
            "Penalties incureed: 6\n",
            "Timesteps taken: 18\n",
            "Penalties incureed: 6\n",
            "Timesteps taken: 19\n",
            "Penalties incureed: 6\n",
            "Timesteps taken: 20\n",
            "Penalties incureed: 6\n",
            "Timesteps taken: 21\n",
            "Penalties incureed: 6\n",
            "Timesteps taken: 22\n",
            "Penalties incureed: 6\n",
            "Timesteps taken: 23\n",
            "Penalties incureed: 6\n",
            "Timesteps taken: 24\n",
            "Penalties incureed: 6\n",
            "Timesteps taken: 25\n",
            "Penalties incureed: 6\n",
            "Timesteps taken: 26\n",
            "Penalties incureed: 7\n",
            "Timesteps taken: 27\n",
            "Penalties incureed: 7\n",
            "Timesteps taken: 28\n",
            "Penalties incureed: 8\n",
            "Timesteps taken: 29\n",
            "Penalties incureed: 8\n",
            "Timesteps taken: 30\n",
            "Penalties incureed: 8\n",
            "Timesteps taken: 31\n",
            "Penalties incureed: 9\n",
            "Timesteps taken: 32\n",
            "Penalties incureed: 9\n",
            "Timesteps taken: 33\n",
            "Penalties incureed: 10\n",
            "Timesteps taken: 34\n",
            "Penalties incureed: 11\n",
            "Timesteps taken: 35\n",
            "Penalties incureed: 11\n",
            "Timesteps taken: 36\n",
            "Penalties incureed: 11\n",
            "Timesteps taken: 37\n",
            "Penalties incureed: 12\n",
            "Timesteps taken: 38\n",
            "Penalties incureed: 12\n",
            "Timesteps taken: 39\n",
            "Penalties incureed: 12\n",
            "Timesteps taken: 40\n",
            "Penalties incureed: 12\n",
            "Timesteps taken: 41\n",
            "Penalties incureed: 13\n",
            "Timesteps taken: 42\n",
            "Penalties incureed: 13\n",
            "Timesteps taken: 43\n",
            "Penalties incureed: 13\n",
            "Timesteps taken: 44\n",
            "Penalties incureed: 14\n",
            "Timesteps taken: 45\n",
            "Penalties incureed: 14\n",
            "Timesteps taken: 46\n",
            "Penalties incureed: 14\n",
            "Timesteps taken: 47\n",
            "Penalties incureed: 14\n",
            "Timesteps taken: 48\n",
            "Penalties incureed: 14\n",
            "Timesteps taken: 49\n",
            "Penalties incureed: 14\n",
            "Timesteps taken: 50\n",
            "Penalties incureed: 15\n",
            "Timesteps taken: 51\n",
            "Penalties incureed: 15\n",
            "Timesteps taken: 52\n",
            "Penalties incureed: 15\n",
            "Timesteps taken: 53\n",
            "Penalties incureed: 15\n",
            "Timesteps taken: 54\n",
            "Penalties incureed: 16\n",
            "Timesteps taken: 55\n",
            "Penalties incureed: 16\n",
            "Timesteps taken: 56\n",
            "Penalties incureed: 16\n",
            "Timesteps taken: 57\n",
            "Penalties incureed: 16\n",
            "Timesteps taken: 58\n",
            "Penalties incureed: 17\n",
            "Timesteps taken: 59\n",
            "Penalties incureed: 18\n",
            "Timesteps taken: 60\n",
            "Penalties incureed: 18\n",
            "Timesteps taken: 61\n",
            "Penalties incureed: 18\n",
            "Timesteps taken: 62\n",
            "Penalties incureed: 18\n",
            "Timesteps taken: 63\n",
            "Penalties incureed: 18\n",
            "Timesteps taken: 64\n",
            "Penalties incureed: 18\n",
            "Timesteps taken: 65\n",
            "Penalties incureed: 18\n",
            "Timesteps taken: 66\n",
            "Penalties incureed: 18\n",
            "Timesteps taken: 67\n",
            "Penalties incureed: 18\n",
            "Timesteps taken: 68\n",
            "Penalties incureed: 18\n",
            "Timesteps taken: 69\n",
            "Penalties incureed: 18\n",
            "Timesteps taken: 70\n",
            "Penalties incureed: 18\n",
            "Timesteps taken: 71\n",
            "Penalties incureed: 19\n",
            "Timesteps taken: 72\n",
            "Penalties incureed: 19\n",
            "Timesteps taken: 73\n",
            "Penalties incureed: 19\n",
            "Timesteps taken: 74\n",
            "Penalties incureed: 20\n",
            "Timesteps taken: 75\n",
            "Penalties incureed: 21\n",
            "Timesteps taken: 76\n",
            "Penalties incureed: 22\n",
            "Timesteps taken: 77\n",
            "Penalties incureed: 23\n",
            "Timesteps taken: 78\n",
            "Penalties incureed: 23\n",
            "Timesteps taken: 79\n",
            "Penalties incureed: 23\n",
            "Timesteps taken: 80\n",
            "Penalties incureed: 23\n",
            "Timesteps taken: 81\n",
            "Penalties incureed: 24\n",
            "Timesteps taken: 82\n",
            "Penalties incureed: 24\n",
            "Timesteps taken: 83\n",
            "Penalties incureed: 25\n",
            "Timesteps taken: 84\n",
            "Penalties incureed: 26\n",
            "Timesteps taken: 85\n",
            "Penalties incureed: 27\n",
            "Timesteps taken: 86\n",
            "Penalties incureed: 27\n",
            "Timesteps taken: 87\n",
            "Penalties incureed: 27\n",
            "Timesteps taken: 88\n",
            "Penalties incureed: 28\n",
            "Timesteps taken: 89\n",
            "Penalties incureed: 29\n",
            "Timesteps taken: 90\n",
            "Penalties incureed: 29\n",
            "Timesteps taken: 91\n",
            "Penalties incureed: 29\n",
            "Timesteps taken: 92\n",
            "Penalties incureed: 30\n",
            "Timesteps taken: 93\n",
            "Penalties incureed: 30\n",
            "Timesteps taken: 94\n",
            "Penalties incureed: 30\n",
            "Timesteps taken: 95\n",
            "Penalties incureed: 30\n",
            "Timesteps taken: 96\n",
            "Penalties incureed: 30\n",
            "Timesteps taken: 97\n",
            "Penalties incureed: 31\n",
            "Timesteps taken: 98\n",
            "Penalties incureed: 31\n",
            "Timesteps taken: 99\n",
            "Penalties incureed: 31\n",
            "Timesteps taken: 100\n",
            "Penalties incureed: 32\n",
            "Timesteps taken: 101\n",
            "Penalties incureed: 33\n",
            "Timesteps taken: 102\n",
            "Penalties incureed: 34\n",
            "Timesteps taken: 103\n",
            "Penalties incureed: 34\n",
            "Timesteps taken: 104\n",
            "Penalties incureed: 35\n",
            "Timesteps taken: 105\n",
            "Penalties incureed: 35\n",
            "Timesteps taken: 106\n",
            "Penalties incureed: 35\n",
            "Timesteps taken: 107\n",
            "Penalties incureed: 35\n",
            "Timesteps taken: 108\n",
            "Penalties incureed: 35\n",
            "Timesteps taken: 109\n",
            "Penalties incureed: 35\n",
            "Timesteps taken: 110\n",
            "Penalties incureed: 35\n",
            "Timesteps taken: 111\n",
            "Penalties incureed: 35\n",
            "Timesteps taken: 112\n",
            "Penalties incureed: 35\n",
            "Timesteps taken: 113\n",
            "Penalties incureed: 35\n",
            "Timesteps taken: 114\n",
            "Penalties incureed: 35\n",
            "Timesteps taken: 115\n",
            "Penalties incureed: 35\n",
            "Timesteps taken: 116\n",
            "Penalties incureed: 35\n",
            "Timesteps taken: 117\n",
            "Penalties incureed: 35\n",
            "Timesteps taken: 118\n",
            "Penalties incureed: 36\n",
            "Timesteps taken: 119\n",
            "Penalties incureed: 36\n",
            "Timesteps taken: 120\n",
            "Penalties incureed: 37\n",
            "Timesteps taken: 121\n",
            "Penalties incureed: 37\n",
            "Timesteps taken: 122\n",
            "Penalties incureed: 38\n",
            "Timesteps taken: 123\n",
            "Penalties incureed: 38\n",
            "Timesteps taken: 124\n",
            "Penalties incureed: 39\n",
            "Timesteps taken: 125\n",
            "Penalties incureed: 39\n",
            "Timesteps taken: 126\n",
            "Penalties incureed: 39\n"
          ],
          "name": "stdout"
        }
      ]
    },
    {
      "cell_type": "code",
      "metadata": {
        "id": "etbI2PyitmYh",
        "colab": {
          "base_uri": "https://localhost:8080/"
        },
        "outputId": "3387a2e0-1a0a-4b71-bdd4-6a23dbb6b42e"
      },
      "source": [
        "from IPython.display import clear_output\r\n",
        "from time import sleep\r\n",
        "\r\n",
        "def print_frames(frames):\r\n",
        "  for i, frame in enumerate(frames):\r\n",
        "    clear_output(wait=True)\r\n",
        "    print(frame['frame'])\r\n",
        "    print(f\"Timestep: {i + 1}\")\r\n",
        "    print(f\"State: {frame['state']}\")\r\n",
        "    print(f\"Action: {frame['action']}\")\r\n",
        "    print(f\"Reward: {frame['reward']}\")\r\n",
        "    sleep(.1)\r\n",
        "print_frames(frames)"
      ],
      "execution_count": null,
      "outputs": [
        {
          "output_type": "stream",
          "text": [
            "+---------+\n",
            "|\u001b[35m\u001b[34;1m\u001b[43mR\u001b[0m\u001b[0m\u001b[0m: | : :G|\n",
            "| : | : : |\n",
            "| : : : : |\n",
            "| | : | : |\n",
            "|Y| : |B: |\n",
            "+---------+\n",
            "  (Dropoff)\n",
            "\n",
            "Timestep: 126\n",
            "State: 0\n",
            "Action: 5\n",
            "Reward: 20\n"
          ],
          "name": "stdout"
        }
      ]
    },
    {
      "cell_type": "code",
      "metadata": {
        "id": "PpE9aqeetmg8"
      },
      "source": [
        "import numpy as np\r\n",
        "q_table = np.zeros([env.observation_space.n, env.action_space.n])"
      ],
      "execution_count": null,
      "outputs": []
    },
    {
      "cell_type": "code",
      "metadata": {
        "id": "hKZIwepItoD4",
        "colab": {
          "base_uri": "https://localhost:8080/"
        },
        "outputId": "a7db26d5-221a-4feb-e184-0eb3228402d6"
      },
      "source": [
        "%%time\r\n",
        " import random\r\n",
        " from IPython.display import clear_output\r\n",
        "\r\n",
        " alpha = 0.1\r\n",
        " gamma = 0.6\r\n",
        " epilson = 0.1\r\n",
        "\r\n",
        " all_epochs = []\r\n",
        " all_penalties = []\r\n",
        "\r\n",
        " for i in range(1, 100001):\r\n",
        "   state = env.reset()\r\n",
        "\r\n",
        "   epochs, penalties, reward, = 0, 0, 0\r\n",
        "\r\n",
        "   done = False\r\n",
        "   while not done:\r\n",
        "        if random.uniform(0, 1) < epilson:\r\n",
        "           action = env.action_space.sample()\r\n",
        "        else:\r\n",
        "           action = np.argmax(q_table[state])\r\n",
        "\r\n",
        "        next_state, reward, done, info = env.step(action)\r\n",
        "        old_value = q_table[state, action]\r\n",
        "        next_max = np.max(q_table[next_state])\r\n",
        "        new_value = (1 - alpha) * old_value + alpha * (reward + gamma * next_max)\r\n",
        "        q_table[state, action] = new_value\r\n",
        "        if reward == -10:\r\n",
        "         penalties += 1\r\n",
        "\r\n",
        "        state = next_state\r\n",
        "        epochs += 1\r\n",
        "     \r\n",
        "   if i % 100 == 0:\r\n",
        "        clear_output(wait=True)\r\n",
        "        print(f\"Episode: {i}\")\r\n",
        "\r\n",
        "print(\"Training finshed.\\n\")"
      ],
      "execution_count": null,
      "outputs": [
        {
          "output_type": "stream",
          "text": [
            "Episode: 100000\n",
            "Training finshed.\n",
            "\n",
            "CPU times: user 42.7 s, sys: 7.51 s, total: 50.2 s\n",
            "Wall time: 41.7 s\n"
          ],
          "name": "stdout"
        }
      ]
    },
    {
      "cell_type": "code",
      "metadata": {
        "id": "evvGWPaUtoHK",
        "colab": {
          "base_uri": "https://localhost:8080/"
        },
        "outputId": "27bdb5bd-d061-417a-ae19-312f196308bb"
      },
      "source": [
        "q_table[328]"
      ],
      "execution_count": null,
      "outputs": [
        {
          "output_type": "execute_result",
          "data": {
            "text/plain": [
              "array([ -2.41300238,  -2.27325184,  -2.4104675 ,  -2.36161157,\n",
              "        -9.94891222, -10.6718144 ])"
            ]
          },
          "metadata": {
            "tags": []
          },
          "execution_count": 17
        }
      ]
    },
    {
      "cell_type": "code",
      "metadata": {
        "id": "dMcOEc1LtoKV",
        "colab": {
          "base_uri": "https://localhost:8080/"
        },
        "outputId": "17460903-9efa-4eed-9e65-772c922fe5bd"
      },
      "source": [
        "total_epochs, total_penalties = 1, 0\r\n",
        "episodes = 100\r\n",
        "\r\n",
        "for _ in range(episodes):\r\n",
        "  state = env.reset()\r\n",
        "  epochs, penalties, reward = 1, 0, 0\r\n",
        "\r\n",
        "  done = False\r\n",
        "\r\n",
        "  while not done:\r\n",
        "    action = np.argmax(q_table[state])\r\n",
        "    state, reward, done, info = env.step(action)\r\n",
        "\r\n",
        "    if reward == -10:\r\n",
        "      penalties += 1\r\n",
        "\r\n",
        "      epochs +=1\r\n",
        "\r\n",
        "    total_penalties += penalties\r\n",
        "    total_epochs += epochs\r\n",
        "\r\n",
        "print(f\"Results after {episodes} episodes:\")\r\n",
        "print(f\"Average timesteps per episode: {total_epochs / episodes}\")\r\n",
        "print(f\"Average penalties per episodes: {total_penalties/ episodes}\")"
      ],
      "execution_count": null,
      "outputs": [
        {
          "output_type": "stream",
          "text": [
            "Results after 100 episodes:\n",
            "Average timesteps per episode: 13.31\n",
            "Average penalties per episodes: 0.0\n"
          ],
          "name": "stdout"
        }
      ]
    },
    {
      "cell_type": "code",
      "metadata": {
        "id": "zwZiUbsZtoNw"
      },
      "source": [
        ""
      ],
      "execution_count": null,
      "outputs": []
    },
    {
      "cell_type": "code",
      "metadata": {
        "id": "J1wiDjArtoRD"
      },
      "source": [
        ""
      ],
      "execution_count": null,
      "outputs": []
    },
    {
      "cell_type": "code",
      "metadata": {
        "id": "xv6rv0VetoVQ"
      },
      "source": [
        ""
      ],
      "execution_count": null,
      "outputs": []
    },
    {
      "cell_type": "code",
      "metadata": {
        "id": "y5bGcEWWtoZR"
      },
      "source": [
        ""
      ],
      "execution_count": null,
      "outputs": []
    }
  ]
}